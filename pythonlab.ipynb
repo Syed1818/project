{
  "nbformat": 4,
  "nbformat_minor": 0,
  "metadata": {
    "colab": {
      "provenance": [],
      "authorship_tag": "ABX9TyMOsoS+5bT8G9CZglVJlKqj",
      "include_colab_link": true
    },
    "kernelspec": {
      "name": "python3",
      "display_name": "Python 3"
    },
    "language_info": {
      "name": "python"
    }
  },
  "cells": [
    {
      "cell_type": "markdown",
      "metadata": {
        "id": "view-in-github",
        "colab_type": "text"
      },
      "source": [
        "<a href=\"https://colab.research.google.com/github/Syed1818/project/blob/main/pythonlab.ipynb\" target=\"_parent\"><img src=\"https://colab.research.google.com/assets/colab-badge.svg\" alt=\"Open In Colab\"/></a>"
      ]
    },
    {
      "cell_type": "code",
      "execution_count": 1,
      "metadata": {
        "colab": {
          "base_uri": "https://localhost:8080/"
        },
        "id": "yOVxavbkBA7I",
        "outputId": "0959743c-b5d5-4942-a57c-44d60e11d13f"
      },
      "outputs": [
        {
          "output_type": "stream",
          "name": "stdout",
          "text": [
            "3 ramu\n"
          ]
        }
      ],
      "source": [
        "a=3\n",
        "b=\"ramu\"\n",
        "print(a,b)"
      ]
    },
    {
      "cell_type": "code",
      "source": [
        "name=\"shahid\"\n",
        "marks=99.9\n",
        "age=20\n",
        "print(type(name))\n",
        "print(type(marks))\n",
        "print(type(age))"
      ],
      "metadata": {
        "colab": {
          "base_uri": "https://localhost:8080/"
        },
        "id": "F34BSiwN6pRJ",
        "outputId": "a3c69667-63cc-40ef-c164-3e22f054430b"
      },
      "execution_count": 7,
      "outputs": [
        {
          "output_type": "stream",
          "name": "stdout",
          "text": [
            "<class 'str'>\n",
            "<class 'float'>\n",
            "<class 'int'>\n"
          ]
        }
      ]
    },
    {
      "cell_type": "code",
      "source": [
        "a=5\n",
        "b=8\n",
        "sum=a+b\n",
        "sub=a-b\n",
        "mul=a*b\n",
        "div=a/b\n",
        "print(sum,sub,mul,div)"
      ],
      "metadata": {
        "colab": {
          "base_uri": "https://localhost:8080/"
        },
        "id": "0XRGyE8V78nX",
        "outputId": "65690280-f01d-4107-969f-c2b79198a219"
      },
      "execution_count": 8,
      "outputs": [
        {
          "output_type": "stream",
          "name": "stdout",
          "text": [
            "13 -3 40 0.625\n"
          ]
        }
      ]
    },
    {
      "cell_type": "code",
      "source": [
        "a=float(input(\"enter the value of a  \"))\n",
        "b=float(input(\"enter the vlaue of b  \"))\n",
        "sum=a+b\n",
        "sub=a-b\n",
        "print(\"the sum of\",a,\"and\",b,\"is\",sum)\n",
        "print(\"the sub of\",a,\"and\",b,\"is\",sub)"
      ],
      "metadata": {
        "colab": {
          "base_uri": "https://localhost:8080/"
        },
        "id": "VtHZk785-hL8",
        "outputId": "410140a8-fe16-44df-cd7c-b93d7fc1d76a"
      },
      "execution_count": 13,
      "outputs": [
        {
          "output_type": "stream",
          "name": "stdout",
          "text": [
            "enter the value of a  5\n",
            "enter the vlaue of b  6\n",
            "the sum of 5.0 and 6.0 is 11.0\n",
            "the sub of 5.0 and 6.0 is -1.0\n"
          ]
        }
      ]
    },
    {
      "cell_type": "code",
      "source": [
        "#datatype ex\n",
        "a=float(input(\"enter the value of a  \"))\n",
        "b=float(input(\"enter the vlaue of b  \"))\n",
        "div=a/b\n",
        "mul=a*b\n",
        "modulo=a%b\n",
        "print(\"the mul of\",a,\"and\",b,\"is\",mul)\n",
        "print(\"the div of\",a,\"and\",b,\"is\",div)\n",
        "print(\"the modulo of\",a,\"and\",b,\"is\",modulo)"
      ],
      "metadata": {
        "colab": {
          "base_uri": "https://localhost:8080/"
        },
        "id": "RVvObmfRB5n-",
        "outputId": "c71dcd44-38f4-4c2f-e84c-51944cc43694"
      },
      "execution_count": 15,
      "outputs": [
        {
          "output_type": "stream",
          "name": "stdout",
          "text": [
            "enter the value of a  5\n",
            "enter the vlaue of b  6\n",
            "the mul of 5.0 and 6.0 is 30.0\n",
            "the div of 5.0 and 6.0 is 0.8333333333333334\n",
            "the modulo of 5.0 and 6.0 is 5.0\n"
          ]
        }
      ]
    },
    {
      "cell_type": "code",
      "source": [
        "#comparison operator\n",
        "a=5\n",
        "b=7\n",
        "c=8\n",
        "print(a==b)\n",
        "print(a==c)"
      ],
      "metadata": {
        "colab": {
          "base_uri": "https://localhost:8080/"
        },
        "id": "RGGHCwanFcAK",
        "outputId": "0a7a5db3-3736-4093-9c0b-19736e0ac6c9"
      },
      "execution_count": 16,
      "outputs": [
        {
          "output_type": "stream",
          "name": "stdout",
          "text": [
            "False\n",
            "False\n"
          ]
        }
      ]
    },
    {
      "cell_type": "code",
      "source": [
        "#comparison operator\n",
        "a=5\n",
        "b=7\n",
        "c=8\n",
        "print(a>=b)\n",
        "print(a>=c)\n",
        "print(max(a,b,c))\n",
        "print(min(a,b,c))\n"
      ],
      "metadata": {
        "colab": {
          "base_uri": "https://localhost:8080/"
        },
        "id": "AB-s-6IMF8QR",
        "outputId": "86b8b3f2-ddfa-46aa-ba78-d882fa370a63"
      },
      "execution_count": 21,
      "outputs": [
        {
          "output_type": "stream",
          "name": "stdout",
          "text": [
            "False\n",
            "False\n",
            "8\n",
            "5\n"
          ]
        }
      ]
    },
    {
      "cell_type": "markdown",
      "source": [],
      "metadata": {
        "id": "sgLg_IcRIS_b"
      }
    },
    {
      "cell_type": "code",
      "source": [
        "#relatinal operator\n",
        "a=\"true\"\n",
        "b=\"false\"\n",
        "c=\"true\"\n",
        "if a and b:\n",
        "  print(\"false\")\n",
        "if a or b:\n",
        "  print(\"true\")\n",
        "if not b:\n",
        "  print(\"vale\")"
      ],
      "metadata": {
        "colab": {
          "base_uri": "https://localhost:8080/"
        },
        "id": "_kNA7aNaIViY",
        "outputId": "05bac4e3-6e3c-4a50-e537-01292042af88"
      },
      "execution_count": 24,
      "outputs": [
        {
          "output_type": "stream",
          "name": "stdout",
          "text": [
            "false\n",
            "true\n"
          ]
        }
      ]
    },
    {
      "cell_type": "code",
      "source": [
        "#assignment operators\n",
        "a=10\n",
        "b=6\n",
        "b*=a\n",
        "print(b)"
      ],
      "metadata": {
        "colab": {
          "base_uri": "https://localhost:8080/"
        },
        "id": "kQleZX9mIR7N",
        "outputId": "bc49501e-6b39-4a86-bb84-2a4eeaf911d4"
      },
      "execution_count": 27,
      "outputs": [
        {
          "output_type": "stream",
          "name": "stdout",
          "text": [
            "60\n"
          ]
        }
      ]
    },
    {
      "cell_type": "code",
      "source": [
        "a=10\n",
        "b=3\n",
        "c=4\n",
        "a+=b\n",
        "b-=c\n",
        "c*=a\n",
        "a/=b\n",
        "a%=b\n",
        "print(a,b,c)\n",
        "sum=a+b\n",
        "sub=a-b\n",
        "mul=a*b\n",
        "div=a/b\n",
        "mod=a%b\n",
        "print(sum,sub,mul,div,mod)\n",
        "print(a==b)\n",
        "print(a!=b)\n",
        "print(a>b)\n",
        "print(a<b)\n",
        "print(a>=b)\n",
        "print(a<=b)\n",
        "if a and b:\n",
        "  print(\"false\")\n",
        "if a or b:\n",
        "  print(\"true\")\n",
        "if not b:\n",
        "  print(\"vale\")\n",
        "if not b:\n",
        "  print(\"vale\")"
      ],
      "metadata": {
        "colab": {
          "base_uri": "https://localhost:8080/"
        },
        "id": "ECgj63MnIR4L",
        "outputId": "3711dcc7-25d1-41a3-922e-bc2453bea4ff"
      },
      "execution_count": 28,
      "outputs": [
        {
          "output_type": "stream",
          "name": "stdout",
          "text": [
            "-0.0 -1 52\n",
            "-1.0 1.0 0.0 0.0 -0.0\n",
            "False\n",
            "True\n",
            "True\n",
            "False\n",
            "True\n",
            "False\n",
            "true\n"
          ]
        }
      ]
    }
  ]
}